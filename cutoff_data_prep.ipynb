{
 "cells": [
  {
   "cell_type": "code",
   "execution_count": 1,
   "metadata": {},
   "outputs": [],
   "source": [
    "import pandas as pd\n",
    "import numpy as np\n",
    "from sklearn.svm import SVR\n",
    "#from sklearn.linear_model import Lasso\n",
    "from sklearn.preprocessing import StandardScaler\n",
    "from sklearn.model_selection import train_test_split\n",
    "from sklearn import datasets, linear_model\n",
    "from sklearn.metrics import mean_squared_error, r2_score, mean_absolute_error\n",
    "from scipy import stats\n",
    "import matplotlib.pyplot as plt\n",
    "import matplotlib.gridspec as gridspec\n",
    "\n",
    "%matplotlib inline"
   ]
  },
  {
   "cell_type": "code",
   "execution_count": 3,
   "metadata": {},
   "outputs": [],
   "source": [
    "df = pd.read_csv(\"2018_qc_cutoff_diff_temp_vgrad.csv\")\n",
    "#df2019 = pd.read_csv(\"2019_qc_cutoff_diff_temp_vgrad.csv\")\n",
    "#df = pd.concat([df2018,df2019])"
   ]
  },
  {
   "cell_type": "code",
   "execution_count": 13,
   "metadata": {},
   "outputs": [],
   "source": [
    "colAnaList = ['diff_temp','vgrad']\n",
    "cluAnaList = [2,3,5,20,40]\n",
    "\n",
    "for col in colAnaList:\n",
    "    for limit in cluAnaList:\n",
    "        df[\"std_{0}_{1}\".format(limit,col)] = (\n",
    "            df.groupby('profile')[col].rolling(window=limit,min_periods=0)\n",
    "            .std().round(decimals=3).reset_index()[col])\n",
    "        df[\"avg_{0}_{1}\".format(limit,col)] = (\n",
    "            df.groupby('profile')[col].rolling(window=limit,min_periods=0)\n",
    "            .mean().shift(1).round(decimals=3).reset_index()[col])\n",
    "        df[\"norm_{0}_{1}\".format(limit,col)] = round(\n",
    "            (np.abs(df[col]-df[\"avg_{0}_{1}\".format(limit,col)]))\n",
    "            .divide(df[\"std_{0}_{1}\".format(limit,col)]),3)\n",
    "        \n",
    "        for nexnum in np.arange(-1,-4,-1):\n",
    "            df[\"prev_{0}_std_{1}_{2}\".format(abs(nexnum),limit,col)] = (\n",
    "                df.groupby('profile')[\"std_{0}_{1}\".format(limit,col)].shift(abs(nexnum)))\n",
    "            df[\"prev_{0}_avg_{1}_{2}\".format(abs(nexnum),limit,col)] = (\n",
    "                df.groupby('profile')[\"avg_{0}_{1}\".format(limit,col)].shift(abs(nexnum)))\n",
    "            df[\"prev_{0}_norm_{1}_{2}\".format(abs(nexnum),limit,col)] = (\n",
    "                df.groupby('profile')[\"norm_{0}_{1}\".format(limit,col)].shift(abs(nexnum)))\n",
    "\n",
    "            df[\"next_{0}_std_{1}_{2}\".format(abs(nexnum),limit,col)] = (\n",
    "                df.groupby('profile')[\"std_{0}_{1}\".format(limit,col)].shift(nexnum))\n",
    "            df[\"next_{0}_avg_{1}_{2}\".format(abs(nexnum),limit,col)] = (\n",
    "                df.groupby('profile')[\"avg_{0}_{1}\".format(limit,col)].shift(nexnum))\n",
    "            df[\"next_{0}_norm_{1}_{2}\".format(abs(nexnum),limit,col)] = (\n",
    "                df.groupby('profile')[\"norm_{0}_{1}\".format(limit,col)].shift(nexnum))\n",
    "\n"
   ]
  },
  {
   "cell_type": "code",
   "execution_count": 14,
   "metadata": {},
   "outputs": [],
   "source": [
    "df2 = df[df['away_from_last_point'].between(-20,7)]"
   ]
  },
  {
   "cell_type": "code",
   "execution_count": 17,
   "metadata": {},
   "outputs": [],
   "source": [
    "df2.to_csv(\"qc_pass_2018_2019_cutoff_analysis.csv\")"
   ]
  },
  {
   "cell_type": "code",
   "execution_count": null,
   "metadata": {},
   "outputs": [],
   "source": []
  }
 ],
 "metadata": {
  "kernelspec": {
   "display_name": "Python 3",
   "language": "python",
   "name": "python3"
  },
  "language_info": {
   "codemirror_mode": {
    "name": "ipython",
    "version": 3
   },
   "file_extension": ".py",
   "mimetype": "text/x-python",
   "name": "python",
   "nbconvert_exporter": "python",
   "pygments_lexer": "ipython3",
   "version": "3.7.7"
  }
 },
 "nbformat": 4,
 "nbformat_minor": 4
}
